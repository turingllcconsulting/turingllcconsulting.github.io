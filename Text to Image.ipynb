{
 "cells": [
  {
   "cell_type": "markdown",
   "id": "a2baf232-e521-4b21-bb6c-451c56dff8ed",
   "metadata": {},
   "source": [
    "## An Improper Visualization of Data"
   ]
  },
  {
   "cell_type": "markdown",
   "id": "4db70391-3b26-4920-88e4-02736f3ef2aa",
   "metadata": {},
   "source": [
    "This is a silly demonstration of how not to visualize data. In code below, the entire text of the ERV Bible is displayed as one bitmap image. The text is converted to hexidecimal three byte chunks and saved as an image. Each pixel represents three consequetive characters from the text represented in corresponding brightness of the values of Red, Green, and Blue.\n",
    "\n",
    "The moral of the story: Data visualization is more than just \"making a picture.\" Consider your audience and aggregate your data appropriately for useful consumption."
   ]
  },
  {
   "cell_type": "code",
   "execution_count": 16,
   "id": "55c835a3-236f-4192-9882-e789e31e6e4d",
   "metadata": {},
   "outputs": [],
   "source": [
    "# Importing libraries\n",
    "import math\n",
    "import os\n",
    "import csv\n",
    "import requests\n",
    "import numpy as np\n",
    "from PIL import Image\n",
    "\n",
    "# Data Source (English Revised Version of the Bible)\n",
    "URL = \"https://openbible.com/textfiles/erv.txt\"\n",
    "\n",
    "# CSV exported file name\n",
    "csv_path = \"erv_encoded.csv\"\n",
    "\n",
    "# BMP exported file name\n",
    "bmp_path = \"erv_image.bmp\"\n",
    "\n",
    "# CSV dimensions\n",
    "ratio_w, ratio_h = 16, 9\n",
    "\n",
    "# Bit joining\n",
    "JOIN_WITHIN_CELL = \"\"\n",
    "\n",
    "# Downloading data\n",
    "resp = requests.get(URL, timeout=60)\n",
    "resp.raise_for_status()\n",
    "data = resp.content\n",
    "\n",
    "# Converting ascii text to hex\n",
    "hex_bytes = [f\"{b:02X}\" for b in data]\n",
    "\n",
    "# Grouping hex into three byte chunks\n",
    "groups = []\n",
    "for i in range(0, len(hex_bytes), 3):\n",
    "    chunk = hex_bytes[i:i+3]\n",
    "    if len(chunk) < 3:\n",
    "        chunk += [\"00\"] * (3 - len(chunk))\n",
    "    groups.append(chunk)\n",
    "\n",
    "# Counting number of six byte chunks\n",
    "n_groups = len(groups)\n",
    "\n",
    "# Scaling to 19x9 dimensions\n",
    "k = math.ceil(math.sqrt(n_groups / (ratio_w * ratio_h)))\n",
    "width, height = ratio_w * k, ratio_h * k\n",
    "total_cells = width * height\n",
    "\n",
    "# Padding end with zeros\n",
    "if total_cells > n_groups:\n",
    "    pad_needed = total_cells - n_groups\n",
    "    groups += [[\"00\"]*3 for _ in range(pad_needed)]\n",
    "\n",
    "# Writing csv file\n",
    "with open(csv_path, \"w\", newline=\"\") as f:\n",
    "    writer = csv.writer(f)\n",
    "    idx = 0\n",
    "    for _ in range(height):\n",
    "        row_cells = [JOIN_WITHIN_CELL.join(groups[idx + j]) for j in range(width)]\n",
    "        writer.writerow(row_cells)\n",
    "        idx += width\n",
    "\n",
    "# Writing bitmap file\n",
    "arr = np.zeros((height, width, 3), dtype=np.uint8)\n",
    "gidx = 0\n",
    "for r in range(height):\n",
    "    for c in range(width):\n",
    "        r_byte = int(groups[gidx][0], 16)\n",
    "        g_byte = int(groups[gidx][1], 16)\n",
    "        b_byte = int(groups[gidx][2], 16)\n",
    "        arr[r, c] = [r_byte, g_byte, b_byte]\n",
    "        gidx += 1\n",
    "\n",
    "Image.fromarray(arr, mode=\"RGB\").save(bmp_path, format=\"BMP\")"
   ]
  }
 ],
 "metadata": {
  "kernelspec": {
   "display_name": "Python [conda env:base] *",
   "language": "python",
   "name": "conda-base-py"
  },
  "language_info": {
   "codemirror_mode": {
    "name": "ipython",
    "version": 3
   },
   "file_extension": ".py",
   "mimetype": "text/x-python",
   "name": "python",
   "nbconvert_exporter": "python",
   "pygments_lexer": "ipython3",
   "version": "3.12.2"
  }
 },
 "nbformat": 4,
 "nbformat_minor": 5
}
